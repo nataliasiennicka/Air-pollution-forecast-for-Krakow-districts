{
  "nbformat": 4,
  "nbformat_minor": 0,
  "metadata": {
    "colab": {
      "name": "Aplikacja dla użytkownika.ipynb",
      "provenance": [],
      "collapsed_sections": [
        "NBFlB7dKG4lN",
        "ZeqTS-LpG7TG"
      ],
      "authorship_tag": "ABX9TyNYqd3QP6CqV+c+65pIr9mx",
      "include_colab_link": true
    },
    "kernelspec": {
      "name": "python3",
      "display_name": "Python 3"
    },
    "language_info": {
      "name": "python"
    }
  },
  "cells": [
    {
      "cell_type": "markdown",
      "metadata": {
        "id": "view-in-github",
        "colab_type": "text"
      },
      "source": [
        "<a href=\"https://colab.research.google.com/github/nataliasiennicka/Air-pollution-forecast-for-Krakow-districts/blob/main/Aplikacja_dla_u%C5%BCytkownika.ipynb\" target=\"_parent\"><img src=\"https://colab.research.google.com/assets/colab-badge.svg\" alt=\"Open In Colab\"/></a>"
      ]
    },
    {
      "cell_type": "markdown",
      "source": [
        "Wczytanie modelu"
      ],
      "metadata": {
        "id": "xIMWHbci9P39"
      }
    },
    {
      "cell_type": "markdown",
      "source": [
        "#IMPORTY"
      ],
      "metadata": {
        "id": "NBFlB7dKG4lN"
      }
    },
    {
      "cell_type": "code",
      "source": [
        "import pandas as pd\n",
        "\n",
        "import os\n",
        "from google.colab import drive\n",
        "drive.mount('/content/drive/')"
      ],
      "metadata": {
        "id": "mGlfWrZNHhqf",
        "colab": {
          "base_uri": "https://localhost:8080/"
        },
        "outputId": "20e5cd33-d1f3-4f85-af6b-baa01047f719"
      },
      "execution_count": null,
      "outputs": [
        {
          "output_type": "stream",
          "name": "stdout",
          "text": [
            "Mounted at /content/drive/\n"
          ]
        }
      ]
    },
    {
      "cell_type": "code",
      "source": [
        "os.chdir('drive/MyDrive/Colab Notebooks/Projekt końcowy')"
      ],
      "metadata": {
        "id": "IheFxbUYIsMh"
      },
      "execution_count": null,
      "outputs": []
    },
    {
      "cell_type": "markdown",
      "source": [
        "#KOD DZIAŁANIA"
      ],
      "metadata": {
        "id": "ZeqTS-LpG7TG"
      }
    },
    {
      "cell_type": "code",
      "source": [
        "\n",
        "def find_the_best_district(df,day):\n",
        "  data1 = pd.read_csv(df)\n",
        "\n",
        "  data = data1.copy()\n",
        "  data['Date'] =  pd.to_datetime(data['Date'])\n",
        "  data['day']=data['Date'].apply(lambda x: x.strftime(\"%A\"))\n",
        "  data.set_index('Date')\n",
        "\n",
        "  day_ohe = pd.get_dummies(data['day'], drop_first=True)\n",
        "  dzielnica_ohe = pd.get_dummies(data['dzielnica'], drop_first=True) #zamiana kategorii na 0/1\n",
        "\n",
        "  data = pd.concat([data,dzielnica_ohe],axis=1)\n",
        "  data = pd.concat([data,day_ohe],axis=1)\n",
        "\n",
        "  data=data.drop(columns=['day','dzielnica'])\n",
        "  data = data.set_index(['Date'])\n",
        "\n",
        "\n",
        "  import pickle\n",
        "  # load the model from disk\n",
        "  filename = 'finalized_model.sav'\n",
        "  loaded_model = pickle.load(open(filename, 'rb'))\n",
        "\n",
        "  prediction = loaded_model.predict(data)\n",
        "  predictions = pd.DataFrame(prediction, columns=[\"zanieczyszczenie P10\"])\n",
        "\n",
        "  new_df = data1.loc[:,['Date','dzielnica']]\n",
        "  new_df = pd.concat([new_df,predictions ], axis=1)\n",
        "\n",
        "\n",
        "\n",
        "  data_of_day = new_df.loc[new_df['Date']==day,:]\n",
        "  min_PM10 = min(data_of_day['zanieczyszczenie P10'])\n",
        "  the_best_district = new_df.loc[new_df['zanieczyszczenie P10']==min_PM10,:]\n",
        "\n",
        "  print()\n",
        "  print(\"Dzielnica dla, której prognozowany jest najniższy parametr PM10 przedstawiona jest w poniższej tabeli:\")\n",
        "  display(the_best_district)"
      ],
      "metadata": {
        "id": "ezoBQEEx_bcZ"
      },
      "execution_count": null,
      "outputs": []
    },
    {
      "cell_type": "markdown",
      "source": [
        "#Do wprowadzenia przez użytkownika"
      ],
      "metadata": {
        "id": "F1jZyNdvTR6O"
      }
    },
    {
      "cell_type": "code",
      "source": [
        "df = input('Podaj nazwę pliku, z którego chcesz wczytać dane:')\n",
        "day = input('Podaj dzień w formacie ROK-MIESIĄC-DZIEŃ, dla, którego ma zostać znaleziona dzielnica o przewidywanym najmniejszym zanieczyszczeniu:')\n",
        "print(\"___________________________________________________________________________________________________________________________________________________\")\n",
        "find_the_best_district(df,day)"
      ],
      "metadata": {
        "colab": {
          "base_uri": "https://localhost:8080/",
          "height": 168
        },
        "id": "h48DfbJjIwKm",
        "outputId": "8767744c-4929-4413-a8bd-e9290833cc59"
      },
      "execution_count": null,
      "outputs": [
        {
          "output_type": "stream",
          "name": "stdout",
          "text": [
            "Podaj nazwę pliku, z którego chcesz wczytać dane:data.csv\n",
            "Podaj dzień w formacie ROK-MIESIĄC-DZIEŃ, dla, którego ma zostać znaleziona dzielnica o przewidywanym najmniejszym zanieczyszczeniu:2018-07-06\n",
            "___________________________________________________________________________________________________________________________________________________\n",
            "\n",
            "Dzielnica dla, której prognozowany jest najniższy parametr PM10 przedstawiona jest w poniższej tabeli:\n"
          ]
        },
        {
          "output_type": "display_data",
          "data": {
            "text/plain": [
              "           Date dzielnica  zanieczyszczenie P10\n",
              "598  2018-07-06        IV                11.125"
            ],
            "text/html": [
              "\n",
              "  <div id=\"df-7d27da15-2f66-4e06-a5bd-d2dc9b11d495\">\n",
              "    <div class=\"colab-df-container\">\n",
              "      <div>\n",
              "<style scoped>\n",
              "    .dataframe tbody tr th:only-of-type {\n",
              "        vertical-align: middle;\n",
              "    }\n",
              "\n",
              "    .dataframe tbody tr th {\n",
              "        vertical-align: top;\n",
              "    }\n",
              "\n",
              "    .dataframe thead th {\n",
              "        text-align: right;\n",
              "    }\n",
              "</style>\n",
              "<table border=\"1\" class=\"dataframe\">\n",
              "  <thead>\n",
              "    <tr style=\"text-align: right;\">\n",
              "      <th></th>\n",
              "      <th>Date</th>\n",
              "      <th>dzielnica</th>\n",
              "      <th>zanieczyszczenie P10</th>\n",
              "    </tr>\n",
              "  </thead>\n",
              "  <tbody>\n",
              "    <tr>\n",
              "      <th>598</th>\n",
              "      <td>2018-07-06</td>\n",
              "      <td>IV</td>\n",
              "      <td>11.125</td>\n",
              "    </tr>\n",
              "  </tbody>\n",
              "</table>\n",
              "</div>\n",
              "      <button class=\"colab-df-convert\" onclick=\"convertToInteractive('df-7d27da15-2f66-4e06-a5bd-d2dc9b11d495')\"\n",
              "              title=\"Convert this dataframe to an interactive table.\"\n",
              "              style=\"display:none;\">\n",
              "        \n",
              "  <svg xmlns=\"http://www.w3.org/2000/svg\" height=\"24px\"viewBox=\"0 0 24 24\"\n",
              "       width=\"24px\">\n",
              "    <path d=\"M0 0h24v24H0V0z\" fill=\"none\"/>\n",
              "    <path d=\"M18.56 5.44l.94 2.06.94-2.06 2.06-.94-2.06-.94-.94-2.06-.94 2.06-2.06.94zm-11 1L8.5 8.5l.94-2.06 2.06-.94-2.06-.94L8.5 2.5l-.94 2.06-2.06.94zm10 10l.94 2.06.94-2.06 2.06-.94-2.06-.94-.94-2.06-.94 2.06-2.06.94z\"/><path d=\"M17.41 7.96l-1.37-1.37c-.4-.4-.92-.59-1.43-.59-.52 0-1.04.2-1.43.59L10.3 9.45l-7.72 7.72c-.78.78-.78 2.05 0 2.83L4 21.41c.39.39.9.59 1.41.59.51 0 1.02-.2 1.41-.59l7.78-7.78 2.81-2.81c.8-.78.8-2.07 0-2.86zM5.41 20L4 18.59l7.72-7.72 1.47 1.35L5.41 20z\"/>\n",
              "  </svg>\n",
              "      </button>\n",
              "      \n",
              "  <style>\n",
              "    .colab-df-container {\n",
              "      display:flex;\n",
              "      flex-wrap:wrap;\n",
              "      gap: 12px;\n",
              "    }\n",
              "\n",
              "    .colab-df-convert {\n",
              "      background-color: #E8F0FE;\n",
              "      border: none;\n",
              "      border-radius: 50%;\n",
              "      cursor: pointer;\n",
              "      display: none;\n",
              "      fill: #1967D2;\n",
              "      height: 32px;\n",
              "      padding: 0 0 0 0;\n",
              "      width: 32px;\n",
              "    }\n",
              "\n",
              "    .colab-df-convert:hover {\n",
              "      background-color: #E2EBFA;\n",
              "      box-shadow: 0px 1px 2px rgba(60, 64, 67, 0.3), 0px 1px 3px 1px rgba(60, 64, 67, 0.15);\n",
              "      fill: #174EA6;\n",
              "    }\n",
              "\n",
              "    [theme=dark] .colab-df-convert {\n",
              "      background-color: #3B4455;\n",
              "      fill: #D2E3FC;\n",
              "    }\n",
              "\n",
              "    [theme=dark] .colab-df-convert:hover {\n",
              "      background-color: #434B5C;\n",
              "      box-shadow: 0px 1px 3px 1px rgba(0, 0, 0, 0.15);\n",
              "      filter: drop-shadow(0px 1px 2px rgba(0, 0, 0, 0.3));\n",
              "      fill: #FFFFFF;\n",
              "    }\n",
              "  </style>\n",
              "\n",
              "      <script>\n",
              "        const buttonEl =\n",
              "          document.querySelector('#df-7d27da15-2f66-4e06-a5bd-d2dc9b11d495 button.colab-df-convert');\n",
              "        buttonEl.style.display =\n",
              "          google.colab.kernel.accessAllowed ? 'block' : 'none';\n",
              "\n",
              "        async function convertToInteractive(key) {\n",
              "          const element = document.querySelector('#df-7d27da15-2f66-4e06-a5bd-d2dc9b11d495');\n",
              "          const dataTable =\n",
              "            await google.colab.kernel.invokeFunction('convertToInteractive',\n",
              "                                                     [key], {});\n",
              "          if (!dataTable) return;\n",
              "\n",
              "          const docLinkHtml = 'Like what you see? Visit the ' +\n",
              "            '<a target=\"_blank\" href=https://colab.research.google.com/notebooks/data_table.ipynb>data table notebook</a>'\n",
              "            + ' to learn more about interactive tables.';\n",
              "          element.innerHTML = '';\n",
              "          dataTable['output_type'] = 'display_data';\n",
              "          await google.colab.output.renderOutput(dataTable, element);\n",
              "          const docLink = document.createElement('div');\n",
              "          docLink.innerHTML = docLinkHtml;\n",
              "          element.appendChild(docLink);\n",
              "        }\n",
              "      </script>\n",
              "    </div>\n",
              "  </div>\n",
              "  "
            ]
          },
          "metadata": {}
        }
      ]
    }
  ]
}